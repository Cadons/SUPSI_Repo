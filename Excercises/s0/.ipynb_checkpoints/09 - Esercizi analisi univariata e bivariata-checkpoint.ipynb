{
 "cells": [
  {
   "cell_type": "markdown",
   "id": "1637c365-5d88-4ea9-a7b7-0256b7a26a4b",
   "metadata": {},
   "source": [
    "# Esercitazione"
   ]
  },
  {
   "cell_type": "markdown",
   "id": "edd3f8b3-6361-46f7-a5a1-6a5a9712590c",
   "metadata": {},
   "source": [
    "## Istruzioni\n",
    "Valgono le stesse istruzioni delle esercitazioni precedenti. \n",
    "\n",
    "Scrivi il programma Python nella cella sotto il testo dell'esercizio (o creane una nuova). Stampa sempre a video il risultato finale per verificare la correttezza dell'esercizio.  Talvolta richiamiamo alcuni concetti importanti in una cella di codice sotto il testo dell'esercizio, prova a eseguirla ed eventualmente modificarla per assicurarti di aver capito il necessario.\n",
    "\n",
    "\n",
    "## Consegna\n",
    "Valgono le regole delle esercitazioni precedenti.\n",
    "\n",
    "E' obbligatorio **consegnare la soluzione di tutti gli esercizi** (tranne quelli marcati come opzionali) **entro la scadenza**, come specificato nell'apposito assignment su iCorsi.  Per consegnare:\n",
    "- eseguire l'intero notebook partendo da zero (`Kernel -> Restart & Run All`), e controllare che le soluzioni siano quelle attese;\n",
    "- esportare il notebook in formato html (`File -> Download as...`) e consegnare il file risultante.\n",
    "\n",
    "Nel caso non abbiate potuto completare uno o piu' esercizi, descrivete il problema incontrato e **consegnate comunque il file con il resto delle soluzioni**."
   ]
  },
  {
   "cell_type": "markdown",
   "id": "8e08fb00-6e10-43aa-8d29-c757ed81ccfa",
   "metadata": {},
   "source": [
    "## Esercizio 1\n",
    "Considera il dataset della stralugano.\n",
    "- Visualizza la distribuzione dei tempi di maschi e femmine, usando un boxplot (con due box), e visualizzando i due istogrammi in modo che siano confrontabili.\n",
    "- Visualizza la distribuzione delle eta' di maschi e femmine, usando un boxplot (con due box), e visualizzando i due istogrammi in modo che siano confrontabili.\n",
    "- Studia la relazione tra tempi ed eta' dei corridori (indipendentemente dal sesso). Visualizza uno scatter plot e calcola il coefficiente di correlazione lineare.  Scrivi una breve frase per commentare lo scatter plot che ottieni.\n",
    "- Crea uno scatter plot che mostri il tempo ottenuto (asse $y$) vs il posto di arrivo (asse $x$). Prima di eseguirlo, prova a immaginarti cosa otterrai, e poi verifica se la tua ipotesi era corretta.\n",
    "\n",
    "Etichetta correttamente tutti gli assi, e dai un titolo descrittivo ad ogni plot!"
   ]
  },
  {
   "cell_type": "code",
   "execution_count": null,
   "id": "81e09999-6eba-462d-a0ec-078693bb5d4b",
   "metadata": {},
   "outputs": [],
   "source": [
    "# Soluzione\n",
    "\n"
   ]
  },
  {
   "cell_type": "markdown",
   "id": "61e5a49d-5472-4581-86ae-edf340683751",
   "metadata": {},
   "source": [
    "## Esercizio 2\n",
    "Considera il dataset IMDB. Genera dei grafici che siano efficaci per rispondere alle seguenti domande:\n",
    "- Come sono distribuiti nel tempo i film presenti nel database?\n",
    "- Come sono distribuite le durate dei film in generale?\n",
    "- Come differiscono le durate dai film in funzione del genere? Puoi limitare l'analisi a pochi generi, ad esempio Documentario e Horror.\n",
    "- I film vengono pubblicati in modo uniforme durante l'anno, oppure ci sono dei mesi in cui alcuni film vengono pubblicati piu' frequentemente?  Prova a limitare l'analisi ai film di maggior successo (come fai a filtrarli?), e/o al periodo successivo al 2000.\n",
    "- Considera il budget e l'income dei film. Studia come sono legate queste due variabili; visualizza la relazione tramite uno scatter plot; cosa rappresenta la diagonale di questo plot?  Ci sono dei punti che spiccano? A che film corrispondono? Prova a utilizzare le funzionalita' di hovering di plotly per mostrare il titolo del film quando ci passi sopra il mouse.\n"
   ]
  },
  {
   "cell_type": "code",
   "execution_count": null,
   "id": "48daa4a1-9457-4f94-9dd0-65211d406272",
   "metadata": {},
   "outputs": [],
   "source": [
    "# Soluzione\n"
   ]
  },
  {
   "cell_type": "markdown",
   "id": "795d471b-0f32-4dfe-9ef6-d07cd3cf5f40",
   "metadata": {},
   "source": [
    "## Esercizio 3\n",
    "Considera il dataset dei profili di okcupid.\n",
    "\n",
    "- Studia la relazione tra il sesso degli utenti e il loro ambito di lavoro.  Crea un grafico che illustri in modo intuitivo come sono legate queste due variabili categoriche.\n",
    "- Utilizzando groupby, studia come varia la media dell'altezza riportata dagli utenti in funzione della loro eta', concentrandoti sul range tra i 18 e i 25 anni.  Visualizza questi dati tramite un grafico appropriato, eventualmente mostrando separatamente gli utenti maschi e femmine."
   ]
  },
  {
   "cell_type": "code",
   "execution_count": 2,
   "id": "2fe63727-a98c-4f94-a811-725ac690d7e1",
   "metadata": {},
   "outputs": [],
   "source": [
    "# Soluzione\n",
    "\n"
   ]
  }
 ],
 "metadata": {
  "kernelspec": {
   "display_name": "Python 3 (ipykernel)",
   "language": "python",
   "name": "python3"
  },
  "language_info": {
   "codemirror_mode": {
    "name": "ipython",
    "version": 3
   },
   "file_extension": ".py",
   "mimetype": "text/x-python",
   "name": "python",
   "nbconvert_exporter": "python",
   "pygments_lexer": "ipython3",
   "version": "3.10.4"
  }
 },
 "nbformat": 4,
 "nbformat_minor": 5
}
