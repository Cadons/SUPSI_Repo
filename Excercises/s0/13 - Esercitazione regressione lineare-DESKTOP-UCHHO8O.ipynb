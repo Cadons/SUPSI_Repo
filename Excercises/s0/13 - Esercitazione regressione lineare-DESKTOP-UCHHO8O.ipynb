{
 "cells": [
  {
   "cell_type": "markdown",
   "metadata": {},
   "source": [
    "# Esercitazione sulla Regressione Lineare"
   ]
  },
  {
   "cell_type": "markdown",
   "metadata": {},
   "source": [
    "## Istruzioni\n",
    "Valgono le stesse istruzioni delle esercitazioni precedenti. \n",
    "\n",
    "Scrivi il programma Python nella cella sotto il testo dell'esercizio (o creane una nuova). Stampa sempre a video il risultato finale per verificare la correttezza dell'esercizio.  Talvolta richiamiamo alcuni concetti importanti in una cella di codice sotto il testo dell'esercizio, prova a eseguirla ed eventualmente modificarla per assicurarti di aver capito il necessario.\n",
    "\n",
    "**Nota.** Alcuni esercizi potrebbero richiedere una semplice risposta a delle domande. In questo caso potete scrivere la soluzione in una cella di tipo \"Markdown\".  \n",
    "\n",
    "\n",
    "## Consegna\n",
    "Valgono le regole delle esercitazioni precedenti.\n",
    "\n",
    "E' obbligatorio **consegnare la soluzione di tutti gli esercizi** (tranne quelli marcati come opzionali) **entro l'inizio della lezione successiva** (in questo caso entro Lunedi' prossimo), nell'apposito assignment su iCorsi.  Per consegnare:\n",
    "- eseguire l'intero notebook partendo da zero (`Kernel -> Restart & Run All`), e controllare che le soluzioni siano quelle attese;\n",
    "- esportare il notebook in formato html (`File -> Download as...`) e consegnare il file risultante.\n",
    "\n",
    "Nel caso non abbiate potuto completare uno o piu' esercizi, descrivete il problema incontrato e **consegnate comunque il file con il resto delle soluzioni**."
   ]
  },
  {
   "attachments": {
    "FigRegr1.png": {
     "image/png": "[encoded data removed]"
    }
   },
   "cell_type": "markdown",
   "metadata": {},
   "source": [
    "## Esercizio 1\n",
    "\n",
    "### 1.1\n",
    "Si consideri lo scatter plot in figura, che riporta la relazione tra la variabile indipendente ``x`` e la variabile target ``y``.\n",
    "![FigRegr11](attachment:FigRegr1.png)\n",
    "\n",
    "Una tra le seguenti 4 rette rappresenta il modello di regressione lineare che minimizza il sum-of-squares error (SSE). Quale? Motivate la vostra risposta.\n",
    "- $y = x-4$\n",
    "- $y = 2x-4$\n",
    "- $y = 2x+4$\n",
    "- $y = x-4$"
   ]
  },
  {
   "cell_type": "markdown",
   "metadata": {},
   "source": [
    "**Soluzione esercizio 1.1**\n",
    "\n"
   ]
  },
  {
   "cell_type": "markdown",
   "metadata": {},
   "source": [
    "### 1.2\n",
    "\n",
    "Scrivere una funzione Python `computePerformance(x,y,w,b)` che calcola il SSE e il coefficiente di determinazione $R^2$ tra le osservazioni e la retta di regressione $y = wx + b$. \n",
    "\n",
    "La funzione riceve come argomenti di ingresso:\n",
    "- x: numpy array contente una sequenza della variabile esplicativa \n",
    "- y: numpy array della stessa dimensione di $x$ contente una sequenza della variabile target\n",
    "- w: coefficiente angolare della retta di regressione\n",
    "- b: valore dell'intercetta della retta di regressione\n",
    "e restituisce il SSE e l' $R^2$.    \n",
    "\n",
    "Testate la funzione `computePerformance(x,y,w,b)` per vari valori di $w$ e $b$ su un set di osservazioni generato in questo modo:\n",
    "- x: array di dimensione 1000 che assume valori casuali (es. valori generati da una distribuzione Gaussiana con media nulla e varianza unitaria)\n",
    "- y=3x-1 + errore, dove errore è un array di variabili casuali Gaussiane a media nulla e varianza $0.1$, e  generato col comando `errore = 0.1*np.random.randn(1000)`\n",
    "\n",
    "Se non avete fatto errori, dovreste osservare che il SSE è \"basso\" e l' $R^2$ è \"prossimo a 1\" per valori di $w$ e $b$ vicini a $3$ e $-1$."
   ]
  },
  {
   "cell_type": "code",
   "execution_count": 4,
   "metadata": {
    "scrolled": true
   },
   "outputs": [],
   "source": [
    "# Solution\n"
   ]
  },
  {
   "cell_type": "markdown",
   "metadata": {},
   "source": [
    "## Regressione lineare tramite pacchetto scikit-learn\n",
    "Il pacchetto Python [scikit-learn](http://scikit-learn.org/stable/index.html) ci permette di calcolare un modello di regressione lineare (sia semplice che multipla) con pochi comandi e in maniera molto efficiente. \n",
    "\n",
    "Familiarizzate con i comandi principli si scikit-learn eseguendo le celle di questo esercizio oppure guardano gli esempi disponibili [online](http://scikit-learn.org/stable/modules/linear_model.html).\n",
    "\n",
    "La seguente cella importa il modulo ``linear_model`` dal pacchetto ``scikit-learn`` dove sono definite classi e metodi necessari per costruire un modello di regressione lineare del tipo ``y = x*w+b``. Una volta importato il modulo ``linear_model``, viene costruito un oggetto ``linRegr`` della classe ``LinearRegression``. All'oggetto ``linRegr``viene applicato il metodo ``fit`` per ricavare il modello di regressione.\n",
    "\n",
    "Nota: il metoto ``fit`` riceve come parametri di ingresso:\n",
    "    - x: array di dimensione DUE con i valori delle variabili esplicative. L'array ha m righe e n colonne (dove m è il numero di osservazioni, e n è il numero di variabili esplicative. Nota bene: (i) n=1 nel caso di regressione semplice, (ii) x deve sempre essere un array di dimensione DUE!! Se avete un array di dimensione 1, fate il reshape dell'array tramite il comando np.reshape per trasformarlo in un vettore colonna di dimensione DUE)\n",
    "    - y: array con i valori della variabile target di lunghezza m. Nota: y puo' anche essere un array di dimensione 1.\n",
    "    \n",
    "Una volta eseguito il comando fit, potete visualizzare i parametri ``w`` e ``b`` del modello di regressione accedendo agli attributi coef_ e intercept_ dell'oggetto ``linRegr``.     "
   ]
  },
  {
   "cell_type": "code",
   "execution_count": 5,
   "metadata": {},
   "outputs": [
    {
     "ename": "ModuleNotFoundError",
     "evalue": "No module named 'sklearn'",
     "output_type": "error",
     "traceback": [
      "\u001B[1;31m---------------------------------------------------------------------------\u001B[0m",
      "\u001B[1;31mModuleNotFoundError\u001B[0m                       Traceback (most recent call last)",
      "Input \u001B[1;32mIn [5]\u001B[0m, in \u001B[0;36m<cell line: 1>\u001B[1;34m()\u001B[0m\n\u001B[1;32m----> 1\u001B[0m \u001B[38;5;28;01mfrom\u001B[39;00m \u001B[38;5;21;01msklearn\u001B[39;00m \u001B[38;5;28;01mimport\u001B[39;00m linear_model\n\u001B[0;32m      3\u001B[0m \u001B[38;5;66;03m# Definisco l'oggetto della classe LinearRegression\u001B[39;00m\n\u001B[0;32m      4\u001B[0m linRegr \u001B[38;5;241m=\u001B[39m linear_model\u001B[38;5;241m.\u001B[39mLinearRegression()\n",
      "\u001B[1;31mModuleNotFoundError\u001B[0m: No module named 'sklearn'"
     ]
    }
   ],
   "source": [
    "from sklearn import linear_model\n",
    "\n",
    "# Definisco l'oggetto della classe LinearRegression\n",
    "linRegr = linear_model.LinearRegression()\n",
    "\n",
    "\n",
    "m = len(x) # Numero di osservazioni\n",
    "x = np.reshape(x,(m,1)) # Trasformo l'array delle variabili esplicative in un array di dimensione 2 (con m righe e 1 colonna)\n",
    "\n",
    "\n",
    "# Costruisco il modello di regressione lineare\n",
    "linRegr.fit(x,y)\n",
    "\n",
    "# Stampo i parametri w e b del modello di regressione\n",
    "w = linRegr.coef_\n",
    "b = linRegr.intercept_\n",
    "print(f\"Parametri w: {w}\")\n",
    "print(f\"Intercetta b: {b}\")"
   ]
  },
  {
   "cell_type": "markdown",
   "metadata": {},
   "source": [
    "Dato un qualunque set di valori della variabile indipendente ``x``, possiamo usare il modello di regressione lineare appena calcolato per stimare il valore della variabile target ``y``. Basta usare il metodo ``predict`` e fornire come ingresso i valori della variabile indipendente."
   ]
  },
  {
   "cell_type": "code",
   "execution_count": null,
   "metadata": {},
   "outputs": [],
   "source": [
    "import plotly.offline as py\n",
    "import plotly.graph_objs as go\n",
    "py.init_notebook_mode(connected=True)\n",
    "\n",
    "# Predico l'uscita per i valori della variabile indipendente x\n",
    "yhat = linRegr.predict(x)\n",
    "\n",
    "# Plotto variabile target (vera) e variabile target stimata dal modello di regressione lineare\n",
    "# ATTENZIONE: quando plottate lo scatter plot con plotly, i valori delle coordinate 'x' e 'y' devono essere array di dimensione UNO!!!!!\n",
    "\n",
    "trace = [go.Scatter(x = x[:,0], y = y, mode = 'markers', name = 'Variabile target misurata'),\n",
    "         go.Scatter(x = x[:,0], y = yhat, mode = 'markers', name = 'Variabile target stimata')]\n",
    "\n",
    "layout = go.Layout(xaxis = dict(title = 'x: variabile esplicativa'), \n",
    "                   yaxis = dict(title = 'y: variabile target'))\n",
    "\n",
    "fig = go.Figure(trace, layout)\n",
    "py.iplot(fig)                    "
   ]
  },
  {
   "cell_type": "markdown",
   "metadata": {},
   "source": [
    "Il metodo ``score`` fornisce il coefficiente di determinazione $R^2$ per il modello di regressione lineare calcolato e per un set di valori della variabile esplicativa ``x`` e della corrispondente variabile target ``y``."
   ]
  },
  {
   "cell_type": "code",
   "execution_count": null,
   "metadata": {},
   "outputs": [],
   "source": [
    "R2Tool = linRegr.score(x,y)\n",
    "R2Tool "
   ]
  },
  {
   "cell_type": "markdown",
   "metadata": {},
   "source": [
    "### 1.3.1\n",
    "Ripete l'esercizio sulla regressione semplice visto a lezione in cui si analizzava la relazione tra lunghezza della mano e altezza di una persona.\n",
    "\n",
    "Nello specifico: \n",
    "- Calcolate i parametri del modello di regressione lineare `y=x*w+b` utilizzando il pacchetto scikit-learn\n",
    "- Disegnare in un unico grafico lo scatter plot delle osservazioni e la retta di regressione \n",
    "- Calcolate il coeffiente di determinazione `R^2` utilizzando il metodo `score`\n",
    "- Usate il metodo `predict` per calcolate il valore della funzione `y = x*w+b` per ogni valore di `x`. Calcolate il SSE"
   ]
  },
  {
   "cell_type": "code",
   "execution_count": null,
   "metadata": {},
   "outputs": [],
   "source": [
    "# Punto 1\n",
    "\n",
    "import pandas as pd\n",
    "\n",
    "# Leggiamo il dataset\n",
    "df = pd.read_table(\"http://users.stat.ufl.edu/~winner/data/stature_hand_foot.dat\",\n",
    "                   delim_whitespace=True, names = [\"id\", \"sex\", \"stature\", \"hand\", \"foot\"])\n",
    "x = df[\"hand\"].values # Variabile esplicativa\n",
    "y = df[\"stature\"].values # Variabile target \n",
    "m = len(x)\n",
    "x = np.reshape(x,(m,1))\n",
    "\n",
    "# Creiamo oggetto della classe LinearRegression\n",
    "regLin = linear_model.LinearRegression()\n",
    "\n",
    "# Calcoliamo modello di regressione lineare\n",
    "regLin.fit(x,y)\n",
    "\n",
    "w = regLin.coef_\n",
    "b = regLin.intercept_\n",
    "\n",
    "print(f\"Modello di regression lineare: y=x{w}+{b}\")"
   ]
  },
  {
   "cell_type": "code",
   "execution_count": null,
   "metadata": {},
   "outputs": [],
   "source": [
    "# Punto 2\n"
   ]
  },
  {
   "cell_type": "code",
   "execution_count": null,
   "metadata": {},
   "outputs": [],
   "source": [
    "# Punto 3\n"
   ]
  },
  {
   "cell_type": "code",
   "execution_count": null,
   "metadata": {},
   "outputs": [],
   "source": [
    "# Punto 4\n"
   ]
  },
  {
   "cell_type": "markdown",
   "metadata": {},
   "source": [
    "## Esercizio 2\n",
    "Si consideri il dataset *kc_house_data.csv* disponibile su ``iCorsi``, che contiene informazioni sugli appartamenti venduti da Maggio 2014 a Maggio 2015 nella [King County](https://en.wikipedia.org/wiki/King_County,_Washington). Tra le informazioni disponibili sono presenti prezzo di vendita, caratteristiche dell'abitazione (es., dimensione dell'abitazione, numero di camere da letto, rapporto tra numero di bagni e camere da letto, etc.). Informazioni sul dataset si possono trovare [QUI](https://www.kaggle.com/harlfoxem/housesalesprediction).\n",
    "\n",
    "L'obbiettivo di questo esercizio è costruire un modello di regressione lineare (sia semplice che multipla) che spieghi la relazione tra le variabili indipendenti (caratteristiche dell'abitazione) e la variabile target (prezzo di vendita).\n",
    "\n",
    "Eseguite la cella per caricare il dataset (caricheremo solo l'1% dell'intero dataset). Tramite il comando ``train_test_split``, dividiamo in maniera randomica il dataset appena caricato in 2 datasets disgiunti, che chiameremo ``dfTrain`` e ``dfTest`` e che costituiranno, rispettivamente, il set di training (usato per costruire il modello di regressione lineare), e il set di test (usato per valutare le performance del modello di regressione costruito). La dimensione del set di training e del set di test sono il 70% e 30% del dataset.\n",
    "\n",
    "Visualizzate i dataset caricati, guardate quali sono i nomi degli attributi e capite cosa rappresentano, aiutandovi con la descrizione disponibile online al seguente [link](https://www.kaggle.com/harlfoxem/housesalesprediction)."
   ]
  },
  {
   "cell_type": "code",
   "execution_count": null,
   "metadata": {},
   "outputs": [],
   "source": [
    "import pandas as pd\n",
    "import numpy as np\n",
    "from sklearn import linear_model\n",
    "from sklearn.model_selection import train_test_split\n",
    "\n",
    "df = pd.read_csv('kc_house_data.csv')\n",
    "df = df.sample(frac=0.01, random_state=42) # carico solo l'1% del dataset originale\n",
    "\n",
    "[dfTrain, dfTest] = train_test_split(df, test_size=0.3, random_state=42) # la dimensione del test set è il 30% del dataset \n",
    "\n",
    "# Visualizziamo come è fatto il dataset\n",
    "print('Training dataset:')\n",
    "dfTrain"
   ]
  },
  {
   "cell_type": "markdown",
   "metadata": {},
   "source": [
    "### 2.1\n",
    "Utilizzando il dataset di training ``dfTrain`` caricato prima, costruite un modello di regressione lineare semplice che spieghi la relazione tra la variabile target *price* (prezzo di vendita in $) e la variabile esplicativa *sqft_living* (dimensione dell'abitazione in ``square feet``). \n",
    "\n",
    "Nello specifico, si eseguano i seguenti punti:\n",
    "- Generate lo scatter plot delle osservazioni. Notate una relazione tra la variabile esplicativa e la variabile target? \n",
    "- Calcolate i parametri del modello di regressione lineare ``y=x*w+b``(Hint: usare i comandi del pacchetto scikit-learn)\n",
    "- Disegnare in un unico grafico lo scatter plot delle osservazioni del trainig set e la retta di regressione.\n",
    "- Calcolate il valore della funzione ``y = x*w+b`` per ogni valore di x del training set e del test set (Hint: usate il comando ``predict``). Si plottino, in 2 figure separate, i residui sul training test e sul test set.\n",
    "- Calcolate il coeffiente di determinazione ``R^2``e il SSE sia sul training set che sul test set. \n",
    "\n",
    "Nota: Si esegua la cella sotto per estrarre dal dataset di training e test la variabile target *price* e la variabile esplicativa *sqft_living*"
   ]
  },
  {
   "cell_type": "code",
   "execution_count": null,
   "metadata": {},
   "outputs": [],
   "source": [
    "# Carichiamo le variabili che ci interessano\n",
    "\n",
    "yTrain = dfTrain['price'].values\n",
    "xTrain = dfTrain['sqft_living'].values\n",
    "\n",
    "yTest = dfTest['price'].values\n",
    "xTest = dfTest['sqft_living'].values\n",
    "\n",
    "print(f\"Length of trainig dataset: {len(yTrain)}\")\n",
    "print(f\"Length of test dataset: {len(yTest)}\")\n",
    "\n",
    "\n",
    "# Facciamo il reshape delle variabili esplicative per avere array di dimensione 2 con m righe e 1 colonna\n",
    "mTrain = len(xTrain)\n",
    "mTest = len(xTest)\n",
    "\n",
    "xTrain = np.reshape(xTrain,(mTrain,1))\n",
    "xTest = np.reshape(xTest,(mTest,1))"
   ]
  },
  {
   "cell_type": "code",
   "execution_count": null,
   "metadata": {},
   "outputs": [],
   "source": [
    "# Solution (Punto 1)\n"
   ]
  },
  {
   "cell_type": "code",
   "execution_count": null,
   "metadata": {},
   "outputs": [],
   "source": [
    "# Solution (Punto 2)\n"
   ]
  },
  {
   "cell_type": "code",
   "execution_count": null,
   "metadata": {},
   "outputs": [],
   "source": [
    "# Solution (Punto 3)\n"
   ]
  },
  {
   "cell_type": "code",
   "execution_count": null,
   "metadata": {},
   "outputs": [],
   "source": [
    "# Solution (Punto 4)\n"
   ]
  },
  {
   "cell_type": "code",
   "execution_count": null,
   "metadata": {},
   "outputs": [],
   "source": [
    "# Solution (Punto 5)\n"
   ]
  },
  {
   "cell_type": "markdown",
   "metadata": {},
   "source": [
    "### 2.2\n",
    "Si ripetano i punti  dell'esercizio precedente, utilizzando come variabile target sempre il prezzo di vendita, ma come variabile esplicativa non piu' la dimensione dell'abitazione, ma la variabile *grade*. La variabile *grade* assume valori tra 1 e 13 e rappresenta la classe di appartenenza dell'abitazione data dalla King County sulla base di una perizia imparziale."
   ]
  },
  {
   "cell_type": "code",
   "execution_count": null,
   "metadata": {},
   "outputs": [],
   "source": [
    "# Solution (punto 0: Carichiamo le variabili che ci interessano)\n",
    "\n",
    "yTrain = dfTrain['price'].values\n",
    "xTrain = dfTrain['grade'].values\n",
    "\n",
    "yTest = dfTest['price'].values\n",
    "xTest = dfTest['grade'].values\n",
    "\n",
    "# Facciamo il reshape delle variabili esplicative per avere array di dimensione 2 con m righe e 1 colonna\n",
    "mTrain = len(xTrain)\n",
    "mTest = len(xTest)\n",
    "\n",
    "xTrain = np.reshape(xTrain,(mTrain,1))\n",
    "xTest = np.reshape(xTest,(mTest,1))"
   ]
  },
  {
   "cell_type": "code",
   "execution_count": null,
   "metadata": {},
   "outputs": [],
   "source": [
    "# Solution (Punto 1)\n"
   ]
  },
  {
   "cell_type": "code",
   "execution_count": null,
   "metadata": {},
   "outputs": [],
   "source": [
    "# Solution (Punto 2)\n"
   ]
  },
  {
   "cell_type": "code",
   "execution_count": null,
   "metadata": {},
   "outputs": [],
   "source": [
    "# Solution (Punto 3)\n"
   ]
  },
  {
   "cell_type": "code",
   "execution_count": null,
   "metadata": {},
   "outputs": [],
   "source": [
    "# Solution (Punto 4)\n"
   ]
  },
  {
   "cell_type": "code",
   "execution_count": null,
   "metadata": {},
   "outputs": [],
   "source": [
    "# Solution (Punto 5)\n"
   ]
  },
  {
   "cell_type": "markdown",
   "metadata": {},
   "source": [
    "## 2.3 (Regressione lineare multipla)\n",
    "\n",
    "Dagli esercizi precedenti abbiamo notato che c'è una relazione tra la variabile *price* e le variabili eslicative *sqft_living* (dimensione dell'appartamento) e *grade* (classe di appartenenza dell'abitazione). Sino ad ora, queste relazioni sono state descritte (in maniera piu' o meno accurata) da 2 modelli indipendenti di regressione lineare semplice.\n",
    "\n",
    "In questa parte dell'esercizio useremo le due variabili esplicative *sqft_living* e *grade* contemporaneamente per provare a spiegare la variabile target *price*. \n",
    "\n",
    "Nello specifico, utilizzando sempre il dataset di training *dfTrain* caricato prima, si vuole costruire un unico modello di regressione lineare multipla che spieghi la relazione tra la variabile target e le 2 variabili splicative *sqft_living* e *grade*. \n",
    "\n",
    "\n",
    "Si eseguano i seguenti punti:\n",
    "- Generate uno scatter plot 3D delle osservazioni (sull'asse x mettete le osservazioni della variabile *sqft_living*, sull'asse y le osservazioni della variabile *grade*, e sull'asse z le osservazioni della variabile target *price*). Guardate la cella di Hint sotto per capire come generare uno scatter plot tridimensionale.\n",
    "- Calcolate i parametri del modello di regressione lineare multipla ``y=x*w+b = sqft_living*w1 + grade*w2 + b``\n",
    "- Disegnare in un unico grafico lo scatter plot tridimensionale delle osservazioni del trainig set e il modello di regressione lineare (questo modello sarà un piano). Guardate la cella di Hint sotto per capire come disegnare un piano nello spazio.\n",
    "- Calcolate il valore della funzione ``y = x*w+b`` per ogni valore di x del training set e del test set. Si plottino, in 2 figure separate, i residui sul training test e sul test set.\n",
    "- Calcolate il coeffiente di determinazione ``R^2``e il SSE sia sul training set che sul test set. Il coefficiente $R^2$ del modello di regressione lineare multipla è piu' alto rispetto all' $R^2$ ottenuto dai singoli modelli di regressione lineare semplice? Quale tra i 3 modelli di regressione lineare calcolati sino ad ora (2 modelli di regressione lineare semplice calcolati al punto 2.1 e 2.2 e il modello di regressione lineare multipla calcolato ora) predice meglio il prezzo di vendita delle case? Hint: Guardare l' $R^2$ sui dati di test.  \n",
    "\n",
    "Nota: Si esegua la cella sotto per caricare le variabile esplicative in un unico array a DUE dimensione, con m righe e 2 colonne."
   ]
  },
  {
   "cell_type": "code",
   "execution_count": null,
   "metadata": {},
   "outputs": [],
   "source": [
    "xTrain = dfTrain[['sqft_living', 'grade']].values\n",
    "xTest = dfTest[['sqft_living', 'grade']].values"
   ]
  },
  {
   "cell_type": "code",
   "execution_count": null,
   "metadata": {},
   "outputs": [],
   "source": [
    "# Hint (3D scatter plot)\n",
    "\n",
    "x = np.random.randn(1000)\n",
    "y = np.random.randn(1000)\n",
    "z = x**2 + y\n",
    "\n",
    "trace = go.Scatter3d(x = x, y = y, z = z, mode = 'markers', marker = dict(size = 3) ) \n",
    "layout = go.Layout(scene = dict(xaxis = dict(title = 'x'), yaxis = dict(title = 'y'), zaxis = dict(title = 'z')))\n",
    "\n",
    "fig = go.Figure([trace], layout)\n",
    "py.iplot(fig)"
   ]
  },
  {
   "cell_type": "code",
   "execution_count": null,
   "metadata": {},
   "outputs": [],
   "source": [
    "# Hint (Disegnare piano nello spazio che passa per punti allineati)\n",
    "\n",
    "x = np.array([1,2,3])\n",
    "y = np.array([1,2,3])\n",
    "z = np.zeros((3,3))\n",
    "\n",
    "for ind1 in range(len(x)):\n",
    "    for ind2 in range(len(y)):\n",
    "        z[ind1,ind2] = 5*x[ind1] + 10*y[ind2] - 0.4   # Equazione del piano\n",
    "\n",
    "trace = go.Surface(x = x, y = y, z = z) \n",
    "layout = go.Layout(scene = dict(xaxis = dict(title = 'x'), yaxis = dict(title = 'y'), zaxis = dict(title = 'z')))\n",
    "\n",
    "fig = go.Figure([trace], layout)\n",
    "py.iplot(fig)"
   ]
  },
  {
   "cell_type": "code",
   "execution_count": null,
   "metadata": {},
   "outputs": [],
   "source": [
    "# Solution (punto 1)\n",
    "# Hint (3D scatter plot)\n",
    "\n",
    "x=xTrain[\"sqft_living\"]\n",
    "y = xTrain[\"grade\"]\n",
    "z = x*y\n",
    "\n",
    "trace = go.Scatter3d(x = x, y = y, z = z, mode = 'markers', marker = dict(size = 3) )\n",
    "layout = go.Layout(scene = dict(xaxis = dict(title = 'x'), yaxis = dict(title = 'y'), zaxis = dict(title = 'z')))\n",
    "\n",
    "fig = go.Figure([trace], layout)\n",
    "py.iplot(fig)"
   ]
  },
  {
   "cell_type": "code",
   "execution_count": null,
   "metadata": {},
   "outputs": [],
   "source": [
    "# Solution (punto 2)\n"
   ]
  },
  {
   "cell_type": "code",
   "execution_count": null,
   "metadata": {},
   "outputs": [],
   "source": [
    "# Solution (punto 3)\n"
   ]
  },
  {
   "cell_type": "code",
   "execution_count": null,
   "metadata": {},
   "outputs": [],
   "source": [
    "# Solution (Punto 4)\n"
   ]
  },
  {
   "cell_type": "code",
   "execution_count": null,
   "metadata": {},
   "outputs": [],
   "source": [
    "# Solution (punto 5)\n"
   ]
  }
 ],
 "metadata": {
  "kernelspec": {
   "display_name": "Python 3 (ipykernel)",
   "language": "python",
   "name": "python3"
  },
  "language_info": {
   "codemirror_mode": {
    "name": "ipython",
    "version": 3
   },
   "file_extension": ".py",
   "mimetype": "text/x-python",
   "name": "python",
   "nbconvert_exporter": "python",
   "pygments_lexer": "ipython3",
   "version": "3.10.6"
  }
 },
 "nbformat": 4,
 "nbformat_minor": 4
}
