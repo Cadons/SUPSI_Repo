{
 "cells": [
  {
   "cell_type": "code",
   "execution_count": 1,
   "outputs": [],
   "source": [
    "import pandas as pd\n",
    "import numpy as np\n",
    "\n"
   ],
   "metadata": {
    "collapsed": false
   }
  },
  {
   "cell_type": "markdown",
   "source": [
    "l'indice è la chiave primaria del dataset\n",
    "ogni colonna è chiamata serie, che è un array di numpy; una serie è composta da indice e valore\n",
    "quando si visualizza una serie viene visualizzato l'indice e il valore della serie selezionata\n",
    "serie.index si ottine l'indice\n",
    "una serie è un dizionario con chiave pari all'indice e valore è il valore richiesto\n",
    "\n",
    "si può usare lo slicing esempio: age[0:3]\n",
    "tail(n) restituisce gli ultimi n elementi\n",
    "\n",
    "per vedere se si conosce il dato di un dato campo basta usare in\n",
    "loc[...] prende un elemento singolo\n",
    "\n",
    "con head(n) selezione le prime n righe\n",
    "in pandas si usa spesso la notazione come le stream di java, in pipeline\n",
    "\n",
    "conse set() si ottengo tutti i possibili valori\n",
    "oppure unique()\n",
    "oppure value_counts() ritorna anche il numero di occorrenze\n",
    "\n",
    "con isnull() determina i valori null, utile per maschere per pulire dati null or NaN\n",
    "columns() restituisce i nomi delle colonne\n"
   ],
   "metadata": {
    "collapsed": false
   }
  }
 ],
 "metadata": {
  "kernelspec": {
   "display_name": "Python 3",
   "language": "python",
   "name": "python3"
  },
  "language_info": {
   "codemirror_mode": {
    "name": "ipython",
    "version": 2
   },
   "file_extension": ".py",
   "mimetype": "text/x-python",
   "name": "python",
   "nbconvert_exporter": "python",
   "pygments_lexer": "ipython2",
   "version": "2.7.6"
  }
 },
 "nbformat": 4,
 "nbformat_minor": 0
}
