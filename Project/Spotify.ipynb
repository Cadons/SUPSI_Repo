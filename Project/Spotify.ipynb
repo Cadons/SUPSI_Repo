{
 "cells": [
  {
   "cell_type": "markdown",
   "id": "c867033f-a6e9-4b42-b804-f9f2cdbeb8df",
   "metadata": {},
   "source": [
    "![](https://storage.googleapis.com/pr-newsroom-wp/1/2018/11/Spotify_Logo_CMYK_Green-768x231.png)\n",
    "\n",
    "# Spotify Dataset\n",
    "\n",
    "We have 2 different datasets:\n",
    "\n",
    "## Artists\n",
    "\n",
    "Each row contains information about a unique artist on spotify.\n",
    "\n",
    "- id\n",
    "- followers\n",
    "- genres\n",
    "- name\n",
    "- popularity\n",
    "\n",
    "## Tracks\n",
    "\n",
    "Each row contains information about a unique track on spotify\n",
    "\n",
    "- id\n",
    "- name\n",
    "- popularity\n",
    "- duration_ms\n",
    "- explicit\n",
    "- id_artists\n",
    "- release_date\n",
    "- danceability\n",
    "- energy\n",
    "- key\n",
    "- loudness\n",
    "- mode\n",
    "- speechiness\n",
    "- acousticness\n",
    "- instrumentalness\n",
    "- liveness\n",
    "- valence\n",
    "- tempo\n",
    "- time_signature\n",
    "\n",
    "# Web API Reference\n",
    "At this link, most of the columns both from artists and tracks are precisely described\n",
    "- https://developer.spotify.com/documentation/web-api/reference/#/operations/get-audio-features"
   ]
  },
  {
   "cell_type": "markdown",
   "id": "083d3f2b-ff47-41ed-a1eb-a5444e75dbc1",
   "metadata": {},
   "source": [
    "# Our Analysis (some proposals)\n",
    "\n",
    "## Artists\n",
    "\n",
    "- Analysis about popularity (correlation with genre, followers, ...)\n",
    "- Analysis about collaborations\n",
    "\n",
    "## Tracks\n",
    "\n",
    "- Analysis on years: year with most songs, numbers of songs for each year, etc ...\n",
    "- Longest and shortest tracks\n",
    "- Average length per genre\n",
    "- Correlation between energy and musical genre\n",
    "- Correlation between energy and danceability\n",
    "- Correlation between popularity and other factors"
   ]
  },
  {
   "cell_type": "markdown",
   "id": "2067f62f-ac81-4ddf-bac9-b77ffa4cc383",
   "metadata": {},
   "source": [
    "# A few examples"
   ]
  },
  {
   "cell_type": "code",
   "execution_count": 5,
   "outputs": [],
   "source": [
    "import pandas as pd\n",
    "import numpy as np\n",
    "import plotly as pl\n",
    "import plotly.express as plx\n"
   ],
   "metadata": {
    "collapsed": false
   }
  },
  {
   "cell_type": "code",
   "execution_count": null,
   "outputs": [],
   "source": [],
   "metadata": {
    "collapsed": false
   }
  }
 ],
 "metadata": {
  "kernelspec": {
   "display_name": "Python 3 (ipykernel)",
   "language": "python",
   "name": "python3"
  },
  "language_info": {
   "codemirror_mode": {
    "name": "ipython",
    "version": 3
   },
   "file_extension": ".py",
   "mimetype": "text/x-python",
   "name": "python",
   "nbconvert_exporter": "python",
   "pygments_lexer": "ipython3",
   "version": "3.10.6"
  }
 },
 "nbformat": 4,
 "nbformat_minor": 5
}
